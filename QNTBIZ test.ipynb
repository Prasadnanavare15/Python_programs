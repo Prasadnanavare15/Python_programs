{
 "cells": [
  {
   "cell_type": "code",
   "execution_count": 1,
   "id": "9aa000ac",
   "metadata": {},
   "outputs": [],
   "source": [
    "import numpy as np"
   ]
  },
  {
   "cell_type": "code",
   "execution_count": 3,
   "id": "3c1e03cd",
   "metadata": {},
   "outputs": [
    {
     "name": "stdout",
     "output_type": "stream",
     "text": [
      "[2, 6]\n"
     ]
    }
   ],
   "source": [
    "arr = np.array([1, 3, 4, 5])  # Array of numbers\n",
    "lst1 = list(range(1, 7))  # List of 1-6 numbers\n",
    "missing_numbers = [i for i in lst1 if i not in arr]\n",
    "\n",
    "print(missing_numbers) "
   ]
  },
  {
   "cell_type": "code",
   "execution_count": 4,
   "id": "aba64df6",
   "metadata": {},
   "outputs": [
    {
     "name": "stdout",
     "output_type": "stream",
     "text": [
      "4\n"
     ]
    }
   ],
   "source": [
    "def find_kth_largest(nums: list, k: int) -> int:\n",
    "    # Sort the list in descending order\n",
    "    nums.sort(reverse=True)\n",
    "    # Return the k-th largest element\n",
    "    return nums[k-1] # Indexing starts from 0 hence we do k-1 to get correct index provided by user\n",
    "\n",
    "nums = [3, 2, 1, 5, 6, 4]\n",
    "k = 3\n",
    "print(find_kth_largest(nums, k))"
   ]
  },
  {
   "cell_type": "code",
   "execution_count": 5,
   "id": "9fa79120",
   "metadata": {},
   "outputs": [
    {
     "data": {
      "text/plain": [
       "[6, 5, 4, 3, 2, 1]"
      ]
     },
     "execution_count": 5,
     "metadata": {},
     "output_type": "execute_result"
    }
   ],
   "source": [
    "nums"
   ]
  },
  {
   "cell_type": "code",
   "execution_count": null,
   "id": "e86dce07",
   "metadata": {},
   "outputs": [],
   "source": []
  }
 ],
 "metadata": {
  "kernelspec": {
   "display_name": "Python 3 (ipykernel)",
   "language": "python",
   "name": "python3"
  },
  "language_info": {
   "codemirror_mode": {
    "name": "ipython",
    "version": 3
   },
   "file_extension": ".py",
   "mimetype": "text/x-python",
   "name": "python",
   "nbconvert_exporter": "python",
   "pygments_lexer": "ipython3",
   "version": "3.11.5"
  }
 },
 "nbformat": 4,
 "nbformat_minor": 5
}
